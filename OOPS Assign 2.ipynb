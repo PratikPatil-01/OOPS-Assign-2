{
 "cells": [
  {
   "cell_type": "markdown",
   "id": "e77d84ff-dc5c-4878-ae9e-846a181f6638",
   "metadata": {},
   "source": [
    "1) "
   ]
  },
  {
   "cell_type": "code",
   "execution_count": 1,
   "id": "d20ef577-1acc-4757-b16b-e4e53ee6720a",
   "metadata": {},
   "outputs": [
    {
     "name": "stdout",
     "output_type": "stream",
     "text": [
      "Name of Vehicle: Car\n",
      "Max Speed: 200\n",
      "Average Speed: 100\n"
     ]
    }
   ],
   "source": [
    "class Vehicle:\n",
    "    def __init__(self, name_of_vehicle, max_speed, average_speed):\n",
    "        self.name_of_vehicle = name_of_vehicle\n",
    "        self.max_speed = max_speed\n",
    "        self.average_speed = average_speed\n",
    "\n",
    "# Example usage:\n",
    "car = Vehicle(\"Car\", 200, 100)\n",
    "print(\"Name of Vehicle:\", car.name_of_vehicle)\n",
    "print(\"Max Speed:\", car.max_speed)\n",
    "print(\"Average Speed:\", car.average_speed)"
   ]
  },
  {
   "cell_type": "code",
   "execution_count": null,
   "id": "3ffcaac8-839b-41ee-9cf3-d862f91499bb",
   "metadata": {},
   "outputs": [],
   "source": []
  },
  {
   "cell_type": "markdown",
   "id": "c326683a-49ce-438b-9ffb-dc1af126d8e9",
   "metadata": {},
   "source": [
    "2) "
   ]
  },
  {
   "cell_type": "code",
   "execution_count": 2,
   "id": "f4768f67-b446-4e07-9d1f-885313215fcb",
   "metadata": {},
   "outputs": [
    {
     "name": "stdout",
     "output_type": "stream",
     "text": [
      "Name of Vehicle: Car\n",
      "Max Speed: 200\n",
      "Average Speed: 100\n",
      "Car has a seating capacity of 5.\n"
     ]
    }
   ],
   "source": [
    "class Vehicle:\n",
    "    def __init__(self, name_of_vehicle, max_speed, average_speed):\n",
    "        self.name_of_vehicle = name_of_vehicle\n",
    "        self.max_speed = max_speed\n",
    "        self.average_speed = average_speed\n",
    "\n",
    "class Car(Vehicle):\n",
    "    def seating_capacity(self, capacity):\n",
    "        return f\"{self.name_of_vehicle} has a seating capacity of {capacity}.\"\n",
    "\n",
    "# Example usage:\n",
    "car = Car(\"Car\", 200, 100)\n",
    "print(\"Name of Vehicle:\", car.name_of_vehicle)\n",
    "print(\"Max Speed:\", car.max_speed)\n",
    "print(\"Average Speed:\", car.average_speed)\n",
    "\n",
    "print(car.seating_capacity(5))  # Output: Car has a seating capacity of 5."
   ]
  },
  {
   "cell_type": "code",
   "execution_count": null,
   "id": "1f460177-873d-43c5-86ac-334ceb1ff3bb",
   "metadata": {},
   "outputs": [],
   "source": []
  },
  {
   "cell_type": "markdown",
   "id": "1ffc2f61-4e70-47a0-b920-a535cdbc4680",
   "metadata": {},
   "source": [
    "3) \n",
    "Multiple inheritance is a feature of some object-oriented programming languages, including Python, where a subclass can inherit attributes and methods from multiple parent classes. This allows a subclass to have characteristics from more than one parent class."
   ]
  },
  {
   "cell_type": "code",
   "execution_count": 3,
   "id": "1bc3d92e-7301-44a7-aa2a-9e8dec5492ee",
   "metadata": {},
   "outputs": [
    {
     "name": "stdout",
     "output_type": "stream",
     "text": [
      "Parrot sings\n",
      "Animal speaks\n",
      "Bird flies\n"
     ]
    }
   ],
   "source": [
    "class Animal:\n",
    "    def speak(self):\n",
    "        print(\"Animal speaks\")\n",
    "\n",
    "class Bird:\n",
    "    def fly(self):\n",
    "        print(\"Bird flies\")\n",
    "\n",
    "class Parrot(Animal, Bird):\n",
    "    def sing(self):\n",
    "        print(\"Parrot sings\")\n",
    "\n",
    "# Creating an instance of the Parrot class\n",
    "parrot = Parrot()\n",
    "parrot.sing()    # Output: Parrot sings\n",
    "parrot.speak()   # Output: Animal speaks\n",
    "parrot.fly()     # Output: Bird flies"
   ]
  },
  {
   "cell_type": "code",
   "execution_count": null,
   "id": "590525ff-b936-4471-8cc2-06ff5938bf11",
   "metadata": {},
   "outputs": [],
   "source": []
  },
  {
   "cell_type": "markdown",
   "id": "061531b9-2dee-42f8-859b-b11d89d5d131",
   "metadata": {},
   "source": [
    "4) \n",
    "</br>\n",
    "Getter and setter methods are used to control access to class attributes in Python. They provide a way to retrieve (get) and update (set) the values of private attributes of a class while maintaining encapsulation and ensuring data integrity.\n",
    "</br>\n",
    "</br>\n",
    "Getter Method:\n",
    "</br>\n",
    "Getter methods are used to retrieve the value of a private attribute.</br>\n",
    "They typically have names prefixed with get, and they return the value of the attribute.\n",
    "</br>\n",
    "</br>\n",
    "Setter Method:\n",
    "</br>\n",
    "Setter methods are used to update the value of a private attribute.</br>\n",
    "They typically have names prefixed with set, and they accept a parameter representing the new value of the attribute."
   ]
  },
  {
   "cell_type": "code",
   "execution_count": 4,
   "id": "f6755945-5508-491a-974b-c88c65bb208e",
   "metadata": {},
   "outputs": [
    {
     "name": "stdout",
     "output_type": "stream",
     "text": [
      "Name: Alice\n",
      "Age: 20\n",
      "Updated Name: Bob\n",
      "Updated Age: 25\n"
     ]
    }
   ],
   "source": [
    "class Student:\n",
    "    def __init__(self, name, age):\n",
    "        self.__name = name  # Private attribute\n",
    "        self.__age = age    # Private attribute\n",
    "\n",
    "    # Getter method for name\n",
    "    def get_name(self):\n",
    "        return self.__name\n",
    "\n",
    "    # Setter method for name\n",
    "    def set_name(self, name):\n",
    "        self.__name = name\n",
    "\n",
    "    # Getter method for age\n",
    "    def get_age(self):\n",
    "        return self.__age\n",
    "\n",
    "    # Setter method for age\n",
    "    def set_age(self, age):\n",
    "        if age >= 0:\n",
    "            self.__age = age\n",
    "        else:\n",
    "            print(\"Age cannot be negative.\")\n",
    "\n",
    "# Creating an instance of the Student class\n",
    "student = Student(\"Alice\", 20)\n",
    "\n",
    "# Using getter methods to retrieve attribute values\n",
    "print(\"Name:\", student.get_name())  # Output: Name: Alice\n",
    "print(\"Age:\", student.get_age())    # Output: Age: 20\n",
    "\n",
    "# Using setter methods to update attribute values\n",
    "student.set_name(\"Bob\")\n",
    "student.set_age(25)\n",
    "\n",
    "# Using getter methods to retrieve updated attribute values\n",
    "print(\"Updated Name:\", student.get_name())  # Output: Updated Name: Bob\n",
    "print(\"Updated Age:\", student.get_age())    # Output: Updated Age: 25"
   ]
  },
  {
   "cell_type": "code",
   "execution_count": null,
   "id": "74123e77-3b42-428e-85b6-774a934f62a9",
   "metadata": {},
   "outputs": [],
   "source": []
  },
  {
   "cell_type": "markdown",
   "id": "a5c671e5-b4d1-4347-a3e6-cb1d306597cb",
   "metadata": {},
   "source": [
    "5) \n",
    "Method overriding is a concept in object-oriented programming where a subclass provides a specific implementation of a method that is already defined in its superclass. When a method in the subclass has the same name and signature (parameters) as a method in the superclass, the method in the subclass overrides (replaces) the method in the superclass."
   ]
  },
  {
   "cell_type": "code",
   "execution_count": 5,
   "id": "8289754a-426f-451c-9362-aedc4258bcc2",
   "metadata": {},
   "outputs": [
    {
     "name": "stdout",
     "output_type": "stream",
     "text": [
      "Bark\n",
      "Meow\n"
     ]
    }
   ],
   "source": [
    "class Animal:\n",
    "    def make_sound(self):\n",
    "        print(\"Generic sound\")\n",
    "\n",
    "class Dog(Animal):\n",
    "    def make_sound(self):\n",
    "        print(\"Bark\")\n",
    "\n",
    "class Cat(Animal):\n",
    "    def make_sound(self):\n",
    "        print(\"Meow\")\n",
    "\n",
    "# Creating instances of Dog and Cat\n",
    "dog = Dog()\n",
    "cat = Cat()\n",
    "\n",
    "# Calling make_sound method for dog and cat objects\n",
    "dog.make_sound()  # Output: Bark\n",
    "cat.make_sound()  # Output: Meow"
   ]
  }
 ],
 "metadata": {
  "kernelspec": {
   "display_name": "Python 3 (ipykernel)",
   "language": "python",
   "name": "python3"
  },
  "language_info": {
   "codemirror_mode": {
    "name": "ipython",
    "version": 3
   },
   "file_extension": ".py",
   "mimetype": "text/x-python",
   "name": "python",
   "nbconvert_exporter": "python",
   "pygments_lexer": "ipython3",
   "version": "3.10.8"
  }
 },
 "nbformat": 4,
 "nbformat_minor": 5
}
